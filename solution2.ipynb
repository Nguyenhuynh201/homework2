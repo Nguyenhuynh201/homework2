{
 "metadata": {
  "language_info": {
   "codemirror_mode": {
    "name": "ipython",
    "version": 3
   },
   "file_extension": ".py",
   "mimetype": "text/x-python",
   "name": "python",
   "nbconvert_exporter": "python",
   "pygments_lexer": "ipython3",
   "version": "3.8.5-final"
  },
  "orig_nbformat": 2,
  "kernelspec": {
   "name": "python_defaultSpec_1600297431916",
   "display_name": "Python 3.8.5 32-bit"
  }
 },
 "nbformat": 4,
 "nbformat_minor": 2,
 "cells": [
  {
   "source": [
    "#Question 1"
   ],
   "cell_type": "markdown",
   "metadata": {}
  },
  {
   "cell_type": "code",
   "execution_count": 1,
   "metadata": {
    "tags": []
   },
   "outputs": [
    {
     "output_type": "stream",
     "name": "stdout",
     "text": "Number              Square                Cube\n"
    }
   ],
   "source": [
    "# Declarations\n",
    "BaseNum = 0     \n",
    "Headings = (\"Number\", \"Square\", \"Cube\")\n",
    "Labels = (\"number\", \"square\", \"cube\")   # This line is used in the other two methods\n",
    "\n",
    "print ('{:>20}' '{:>20}' '{:>20}'.format(Headings[0],Headings[1],Headings[2]))\n"
   ]
  },
  {
   "cell_type": "markdown",
   "metadata": {},
   "source": [
    "#Question 2"
   ]
  },
  {
   "cell_type": "code",
   "execution_count": 4,
   "metadata": {
    "tags": []
   },
   "outputs": [
    {
     "output_type": "stream",
     "name": "stdout",
     "text": "The Celsiua value of -40 would equal to -40.0 in Fahrenheit\n"
    }
   ],
   "source": [
    "Celsius = int(input('Please enter the Celsius value you would like to convert to Fabrenheit:  '))\n",
    "Fahrenheit = (9 / 5) * Celsius + 32\n",
    "print(f'The Celsiua value of {Celsius} would equal to {Fahrenheit} in Fahrenheit')"
   ]
  },
  {
   "cell_type": "code",
   "execution_count": 5,
   "metadata": {
    "tags": []
   },
   "outputs": [
    {
     "output_type": "stream",
     "name": "stdout",
     "text": "The Celsiua value of 0 would equal to 32.0 in Fahrenheit\n"
    }
   ],
   "source": [
    "Celsius = int(input('Please enter the Celsius value you would like to convert to Fabrenheit:  '))\n",
    "Fahrenheit = (9 / 5) * Celsius + 32\n",
    "print(f'The Celsiua value of {Celsius} would equal to {Fahrenheit} in Fahrenheit')"
   ]
  },
  {
   "cell_type": "code",
   "execution_count": 6,
   "metadata": {
    "tags": []
   },
   "outputs": [
    {
     "output_type": "stream",
     "name": "stdout",
     "text": "The Celsiua value of 40 would equal to 104.0 in Fahrenheit\n"
    }
   ],
   "source": [
    "Celsius = int(input('Please enter the Celsius value you would like to convert to Fabrenheit:  '))\n",
    "Fahrenheit = (9 / 5) * Celsius + 32\n",
    "print(f'The Celsiua value of {Celsius} would equal to {Fahrenheit} in Fahrenheit')"
   ]
  },
  {
   "cell_type": "code",
   "execution_count": 7,
   "metadata": {
    "tags": []
   },
   "outputs": [
    {
     "output_type": "stream",
     "name": "stdout",
     "text": "The Celsiua value of 100 would equal to 212.0 in Fahrenheit\n"
    }
   ],
   "source": [
    "Celsius = int(input('Please enter the Celsius value you would like to convert to Fabrenheit:  '))\n",
    "Fahrenheit = (9 / 5) * Celsius + 32\n",
    "print(f'The Celsiua value of {Celsius} would equal to {Fahrenheit} in Fahrenheit')"
   ]
  },
  {
   "cell_type": "markdown",
   "metadata": {},
   "source": []
  },
  {
   "cell_type": "markdown",
   "metadata": {},
   "source": []
  },
  {
   "cell_type": "markdown",
   "metadata": {},
   "source": [
    "#Question 3"
   ]
  },
  {
   "cell_type": "code",
   "execution_count": 60,
   "metadata": {
    "tags": []
   },
   "outputs": [
    {
     "output_type": "stream",
     "name": "stdout",
     "text": "The sum is  7,000\nThe average is  2,333.33\n"
    }
   ],
   "source": [
    "x, y, z = [int(x) for x in input(\"Please enter three interger values (seperate by a comma): \").split(\",\")]\n",
    "\n",
    "total = x + y + z\n",
    "average = (x + y + z)/3\n",
    "print(f'The sum is {total: ,d}')\n",
    "\n",
    "print(f'The average is {average: ,.2f}')\n",
    "\n"
   ]
  }
 ]
}