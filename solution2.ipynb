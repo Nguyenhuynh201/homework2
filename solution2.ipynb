{
 "metadata": {
  "language_info": {
   "codemirror_mode": {
    "name": "ipython",
    "version": 3
   },
   "file_extension": ".py",
   "mimetype": "text/x-python",
   "name": "python",
   "nbconvert_exporter": "python",
   "pygments_lexer": "ipython3",
   "version": "3.8.5-final"
  },
  "orig_nbformat": 2,
  "kernelspec": {
   "name": "python_defaultSpec_1600297534133",
   "display_name": "Python 3.8.5 32-bit"
  }
 },
 "nbformat": 4,
 "nbformat_minor": 2,
 "cells": [
  {
   "source": [
    "#Question 1"
   ],
   "cell_type": "markdown",
   "metadata": {}
  },
  {
   "cell_type": "code",
   "execution_count": 2,
   "metadata": {
    "tags": []
   },
   "outputs": [
    {
     "output_type": "stream",
     "name": "stdout",
     "text": "Number              Square                Cube\n                   0                   0                   0\n                   1                   1                   1\n                   2                   4                   8\n                   3                   9                  27\n                   4                  16                  64\n                   5                  25                 125\n"
    }
   ],
   "source": [
    "\n",
    "BaseNum = 0   \n",
    "NextNum = 1  \n",
    "Headings = (\"Number\", \"Square\", \"Cube\")\n",
    "  \n",
    "\n",
    "print ('{:>20}' '{:>20}' '{:>20}'.format(Headings[0],Headings[1],Headings[2]))\n",
    "print ('{:>20}' '{:>20}' '{:>20}'.format(BaseNum,int(BaseNum ** 2), int(BaseNum ** 3)))\n",
    "print ('{:>20}' '{:>20}' '{:>20}'.format(NextNum,int(NextNum ** 2), int(NextNum ** 3)))\n",
    "print ('{:>20}' '{:>20}' '{:>20}'.format(NextNum + 1,int((NextNum + 1)** 2), int((NextNum + 1) ** 3)))\n",
    "print ('{:>20}' '{:>20}' '{:>20}'.format(NextNum + 2,int((NextNum + 2)** 2), int((NextNum + 2) ** 3)))\n",
    "print ('{:>20}' '{:>20}' '{:>20}'.format(NextNum + 3,int((NextNum + 3)** 2), int((NextNum + 3) ** 3)))\n",
    "print ('{:>20}' '{:>20}' '{:>20}'.format(NextNum + 4,int((NextNum + 4)** 2), int((NextNum + 4) ** 3)))"
   ]
  },
  {
   "cell_type": "markdown",
   "metadata": {},
   "source": [
    "#Question 2"
   ]
  },
  {
   "cell_type": "code",
   "execution_count": 5,
   "metadata": {
    "tags": []
   },
   "outputs": [
    {
     "output_type": "stream",
     "name": "stdout",
     "text": "The Celsiua value of 0 would equal to 32.0 in Fahrenheit\n"
    }
   ],
   "source": [
    "Celsius = int(input('Please enter the Celsius value you would like to convert to Fabrenheit:  '))\n",
    "Fahrenheit = (9 / 5) * Celsius + 32\n",
    "print(f'The Celsiua value of {Celsius} would equal to {Fahrenheit} in Fahrenheit')"
   ]
  },
  {
   "cell_type": "code",
   "execution_count": 6,
   "metadata": {
    "tags": []
   },
   "outputs": [
    {
     "output_type": "stream",
     "name": "stdout",
     "text": "The Celsiua value of 40 would equal to 104.0 in Fahrenheit\n"
    }
   ],
   "source": [
    "Celsius = int(input('Please enter the Celsius value you would like to convert to Fabrenheit:  '))\n",
    "Fahrenheit = (9 / 5) * Celsius + 32\n",
    "print(f'The Celsiua value of {Celsius} would equal to {Fahrenheit} in Fahrenheit')"
   ]
  },
  {
   "cell_type": "code",
   "execution_count": 7,
   "metadata": {
    "tags": []
   },
   "outputs": [
    {
     "output_type": "stream",
     "name": "stdout",
     "text": "The Celsiua value of 100 would equal to 212.0 in Fahrenheit\n"
    }
   ],
   "source": [
    "Celsius = int(input('Please enter the Celsius value you would like to convert to Fabrenheit:  '))\n",
    "Fahrenheit = (9 / 5) * Celsius + 32\n",
    "print(f'The Celsiua value of {Celsius} would equal to {Fahrenheit} in Fahrenheit')"
   ]
  },
  {
   "cell_type": "code",
   "execution_count": 5,
   "metadata": {
    "tags": []
   },
   "outputs": [
    {
     "output_type": "stream",
     "name": "stdout",
     "text": "The Celsiua value of -40 would equal to -40.0 in Fahrenheit\n"
    }
   ],
   "source": [
    "Celsius = int(input('Please enter the Celsius value you would like to convert to Fabrenheit:  '))\n",
    "Fahrenheit = (9 / 5) * Celsius + 32\n",
    "print(f'The Celsiua value of {Celsius} would equal to {Fahrenheit} in Fahrenheit')"
   ]
  },
  {
   "cell_type": "markdown",
   "metadata": {},
   "source": []
  },
  {
   "cell_type": "markdown",
   "metadata": {},
   "source": [
    "#Question 3"
   ]
  },
  {
   "cell_type": "code",
   "execution_count": 24,
   "metadata": {
    "tags": []
   },
   "outputs": [
    {
     "output_type": "stream",
     "name": "stdout",
     "text": "The sum is  7,000\nThe average is  2,333.33\n"
    }
   ],
   "source": [
    "x, y, z = [int(x) for x in input(\"Please enter three interger values (seperate by a comma): \").split(\",\")]\n",
    "\n",
    "total = x + y + z\n",
    "average = (x + y + z)/3\n",
    "print(f'The sum is {total: ,d}')\n",
    "\n",
    "print(f'The average is {average: ,.2f}')\n",
    "\n"
   ]
  }
 ]
}